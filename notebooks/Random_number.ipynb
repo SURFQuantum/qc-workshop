{
 "cells": [
  {
   "cell_type": "markdown",
   "id": "3846a1d2",
   "metadata": {},
   "source": [
    "[Index](Index.ipynb) - [Prev](SWAP_gate.ipynb) - [Next](Measurements.ipynb)"
   ]
  },
  {
   "cell_type": "markdown",
   "id": "a8a8c997",
   "metadata": {},
   "source": [
    "# Random Number Generator\n",
    "Now that you have seen how a quantum circuit can be build and the effect of different gates, can you think of a way to create a random number generator?\n",
    "\n",
    "Think for example in the binary representation of the numbers 0 to 7:\n",
    "\n",
    "0 = 000\n",
    "\n",
    "1 = 001\n",
    "\n",
    "2 = 010\n",
    "\n",
    "3 = 011\n",
    "\n",
    "4 = 100\n",
    "\n",
    "5 = 101\n",
    "\n",
    "6 = 110\n",
    "\n",
    "7 = 111\n",
    "\n",
    "Q1: Can you create a circuit that can with equal probability give as a result any of these numbers?\n",
    "(hint: remember the Hadamard gate?)"
   ]
  },
  {
   "cell_type": "code",
   "execution_count": null,
   "id": "e9a22c55",
   "metadata": {},
   "outputs": [],
   "source": [
    "from qiskit import QuantumCircuit, QuantumRegister, ClassicalRegister, execute, Aer, IBMQ\n",
    "from qiskit.visualization import plot_bloch_multivector, plot_histogram\n",
    "import matplotlib.pyplot as plt\n",
    "from mpl_toolkits.axes_grid1.inset_locator import mark_inset, inset_axes\n",
    "\n",
    "#define circuit\n",
    "q = QuantumRegister(3, 'q')\n",
    "c = ClassicalRegister(3, 'c')\n",
    "circuit = QuantumCircuit(q,c)\n",
    "\n",
    "\n",
    "# ---- Add your extra gates to execute on qubits here----\n",
    "\n",
    "\n",
    "\n",
    "# add measurements at end of circuit\n",
    "\n",
    "circuit.measure(q, c)\n",
    "\n",
    "# define simulator\n",
    "simulator = Aer.get_backend('qasm_simulator')\n",
    "# execute the circuit with this simulator\n",
    "job = execute(circuit, simulator).result()\n",
    "counts = job.get_counts()\n",
    "\n",
    "print (\"total counts are:\",counts)\n",
    "# plot histogram\n",
    "display(plot_histogram(counts,figsize=(3,5)))\n",
    "\n",
    "# show circuit\n",
    "display(circuit.draw(output='mpl'))"
   ]
  },
  {
   "cell_type": "code",
   "execution_count": null,
   "id": "818a7807",
   "metadata": {},
   "outputs": [],
   "source": []
  }
 ],
 "metadata": {
  "kernelspec": {
   "display_name": "Python 3 (ipykernel)",
   "language": "python",
   "name": "python3"
  },
  "language_info": {
   "codemirror_mode": {
    "name": "ipython",
    "version": 3
   },
   "file_extension": ".py",
   "mimetype": "text/x-python",
   "name": "python",
   "nbconvert_exporter": "python",
   "pygments_lexer": "ipython3",
   "version": "3.10.8"
  }
 },
 "nbformat": 4,
 "nbformat_minor": 5
}
