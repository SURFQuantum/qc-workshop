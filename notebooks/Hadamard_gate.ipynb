{
 "cells": [
  {
   "cell_type": "markdown",
   "metadata": {},
   "source": [
    "[Index](Index.ipynb) - [Prev](Rotation_gates.ipynb) - [Next](CNOT_gate.ipynb)"
   ]
  },
  {
   "cell_type": "markdown",
   "metadata": {},
   "source": [
    "## Hadamard gate <a id='hadamards'></a>\n",
    "\n",
    "The Hadamard gate is probably the most important single-qubit gate. When applied to the basis states, it creates an equal superposition of $|0\\rangle$ and $|1\\rangle$. It can be thought of as a 180 degrees rotation in the axis between the X and Z axis."
   ]
  },
  {
   "cell_type": "code",
   "execution_count": null,
   "metadata": {},
   "outputs": [],
   "source": [
    "from qiskit import QuantumCircuit, QuantumRegister, ClassicalRegister, execute, Aer, IBMQ\n",
    "from qiskit.visualization import plot_bloch_multivector, plot_histogram\n",
    "import matplotlib.pyplot as plt\n",
    "import numpy as np\n",
    "from mpl_toolkits.axes_grid1.inset_locator import mark_inset, inset_axes\n",
    "\n",
    "# define the backend\n",
    "simulator = Aer.get_backend('statevector_simulator')\n",
    "\n",
    "# defining the circuit\n",
    "q = QuantumRegister(1, 'q')\n",
    "c = ClassicalRegister(1, 'c')\n",
    "circuit = QuantumCircuit(q,c)\n",
    "\n",
    "# Define initial_state alpha=1, beta=0 --> state |0>\n",
    "initial_state = [1,0]   \n",
    "circuit.initialize(initial_state, 0) \n",
    "\n",
    "# A hadamard operation and measurement\n",
    "circuit.h(q)\n",
    "\n",
    "# Add a measurement to the circuit\n",
    "#circuit.measure(q,c)\n",
    "\n",
    "# execute the circuit with the defined backend\n",
    "job = execute(circuit, simulator).result()\n",
    "\n",
    "# statevector\n",
    "state = job.get_statevector()\n",
    "print(\"state of qubit = \" + np.array2string(np.round(state.data,3), separator=', '))\n",
    "\n",
    "\n",
    "# visualize state in bloch sphere\n",
    "display(plot_bloch_multivector(state))\n",
    "\n",
    "\n",
    "# visualize probability \n",
    "#counts = job.get_counts()\n",
    "#display(plot_histogram(counts,figsize=(3,5)))"
   ]
  },
  {
   "cell_type": "markdown",
   "metadata": {},
   "source": [
    "The Hadamard gate creates a state that is an even superposition of the basis states $|0\\rangle$ and $|1\\rangle$. \n",
    "It is only when we measure the qubit that we \"collapse\" the state to one of these values.\n",
    "Using the qasm_simulator we can verify that indeed if we execute several times the circuit we will get in some cases ($\\sim50%$) as output state $|0\\rangle$ and in some cases ($\\sim50%$) state $|1\\rangle$.\n",
    "\n",
    "> E1: change the backend to the qasm_simulator, uncomment the measurment and the probability section and comment out the statevector section. Is this what you expected?"
   ]
  },
  {
   "cell_type": "markdown",
   "metadata": {},
   "source": [
    "> Q1: Can you also set a system in a superposition state with other gates? (hint: you need to align the state with the X-axis, maybe a rotation?)"
   ]
  },
  {
   "cell_type": "markdown",
   "metadata": {},
   "source": [
    "> Q2: What is the effect of applying HXH? or HZH?"
   ]
  },
  {
   "cell_type": "markdown",
   "metadata": {},
   "source": [
    "Many quantum gates can be expressed as a composition of other gates, and therefore a quantum computer doesn't need to directly implement every possible gate. The minimum set of gates needed to generate all operations is called a \"universal gate set\". As the name suggests, a universal gate set is a collection of gates expressive enough that any possible operation on a quantum computer can be reduced to a sequence of those gates.\n",
    "\n",
    "\n",
    "This is similar to classical computers, where a (classical) gate set is called universal if, by stringing together enough gates from the set, you can express any Boolean function on any number of bits.\n",
    "\n",
    "As a side note, all single qubit operations can be written in a general unitary form with three parameters: $U3(\\theta, \\phi, \\lambda)$. Before running a circuit on a real quantum hardware, all single-qubit operations are compiled down to this form. For this reason, they are sometimes called the physical gates."
   ]
  },
  {
   "cell_type": "code",
   "execution_count": null,
   "metadata": {},
   "outputs": [],
   "source": []
  }
 ],
 "metadata": {
  "kernelspec": {
   "display_name": "Python 3 (ipykernel)",
   "language": "python",
   "name": "python3"
  },
  "language_info": {
   "codemirror_mode": {
    "name": "ipython",
    "version": 3
   },
   "file_extension": ".py",
   "mimetype": "text/x-python",
   "name": "python",
   "nbconvert_exporter": "python",
   "pygments_lexer": "ipython3",
   "version": "3.10.8"
  }
 },
 "nbformat": 4,
 "nbformat_minor": 2
}
